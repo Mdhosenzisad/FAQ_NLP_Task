{
  "nbformat": 4,
  "nbformat_minor": 0,
  "metadata": {
    "colab": {
      "provenance": [],
      "collapsed_sections": []
    },
    "kernelspec": {
      "name": "python3",
      "display_name": "Python 3"
    }
  },
  "cells": [
    {
      "cell_type": "markdown",
      "metadata": {
        "id": "fZ3ut8XCatI8"
      },
      "source": [
        "##Import Dataset"
      ]
    },
    {
      "cell_type": "code",
      "source": [
        "from google.colab import drive\n",
        "drive.mount('/content/drive')"
      ],
      "metadata": {
        "colab": {
          "base_uri": "https://localhost:8080/"
        },
        "id": "Wn_Izf81tDH9",
        "outputId": "34eac968-a3b5-47ed-8837-24ed88da7f72"
      },
      "execution_count": 11,
      "outputs": [
        {
          "output_type": "stream",
          "name": "stdout",
          "text": [
            "Drive already mounted at /content/drive; to attempt to forcibly remount, call drive.mount(\"/content/drive\", force_remount=True).\n"
          ]
        }
      ]
    },
    {
      "cell_type": "code",
      "source": [
        "# Importing the Keras libraries and packages\n",
        "import keras,os\n",
        "import tensorflow as tf\n",
        "import numpy as np # linear algebra\n",
        "import pandas as pd # data processing, CSV file I/O (e.g. pd.read_csv)\n",
        "import nltk\n",
        "from nltk.corpus import stopwords\n",
        "import string"
      ],
      "metadata": {
        "id": "zLuB_k51s58O"
      },
      "execution_count": 12,
      "outputs": []
    },
    {
      "cell_type": "code",
      "metadata": {
        "id": "b2ri6RQELPui",
        "outputId": "4866b34f-b8dc-4674-ffa2-0f9e00bc15de",
        "colab": {
          "base_uri": "https://localhost:8080/",
          "height": 363
        }
      },
      "source": [
        "import pandas as pd;\n",
        "\n",
        "#Loading dataset and rename columns\n",
        "\n",
        "df = pd.read_csv(\"/content/drive/MyDrive/Thesis/Dataset/FAQs.csv\")\n",
        "df.columns=[\"questions\",\"answers\"];\n",
        "df"
      ],
      "execution_count": 13,
      "outputs": [
        {
          "output_type": "execute_result",
          "data": {
            "text/plain": [
              "                                           questions  \\\n",
              "0                     When was Albert Einstein born?   \n",
              "1                                 Where was he born?   \n",
              "2                                   When did he die?   \n",
              "3                              Who were his parents?   \n",
              "4              Did he have any sisters and brothers?   \n",
              "5                    Did he marry and have children?   \n",
              "6                Where did he receive his education?   \n",
              "7  When was Albert Einstein awarded the Nobel Pri...   \n",
              "8  Did Albert Einstein attend the Nobel Prize Awa...   \n",
              "9           For what did he receive the Nobel Prize?   \n",
              "\n",
              "                                             answers  \n",
              "0         Albert Einstein was born on 14 March 1879.  \n",
              "1                      He was born in Ulm, Germany.   \n",
              "2  He died 18 April 1955 in Princeton, New Jersey...  \n",
              "3  His father was Hermann Einstein and his mother...  \n",
              "4                      He had one sister named Maja.  \n",
              "5  He was married to Mileva Marić between 1903 an...  \n",
              "6  He received his main education at the followin...  \n",
              "7  The Nobel Prize Awarding Institution, the Roya...  \n",
              "8  The Nobel Prize was announced on 9 November 19...  \n",
              "9  Einstein was rewarded for his many contributio...  "
            ],
            "text/html": [
              "\n",
              "  <div id=\"df-4b5dfa91-35eb-40cf-8740-0df16dbf0b20\">\n",
              "    <div class=\"colab-df-container\">\n",
              "      <div>\n",
              "<style scoped>\n",
              "    .dataframe tbody tr th:only-of-type {\n",
              "        vertical-align: middle;\n",
              "    }\n",
              "\n",
              "    .dataframe tbody tr th {\n",
              "        vertical-align: top;\n",
              "    }\n",
              "\n",
              "    .dataframe thead th {\n",
              "        text-align: right;\n",
              "    }\n",
              "</style>\n",
              "<table border=\"1\" class=\"dataframe\">\n",
              "  <thead>\n",
              "    <tr style=\"text-align: right;\">\n",
              "      <th></th>\n",
              "      <th>questions</th>\n",
              "      <th>answers</th>\n",
              "    </tr>\n",
              "  </thead>\n",
              "  <tbody>\n",
              "    <tr>\n",
              "      <th>0</th>\n",
              "      <td>When was Albert Einstein born?</td>\n",
              "      <td>Albert Einstein was born on 14 March 1879.</td>\n",
              "    </tr>\n",
              "    <tr>\n",
              "      <th>1</th>\n",
              "      <td>Where was he born?</td>\n",
              "      <td>He was born in Ulm, Germany.</td>\n",
              "    </tr>\n",
              "    <tr>\n",
              "      <th>2</th>\n",
              "      <td>When did he die?</td>\n",
              "      <td>He died 18 April 1955 in Princeton, New Jersey...</td>\n",
              "    </tr>\n",
              "    <tr>\n",
              "      <th>3</th>\n",
              "      <td>Who were his parents?</td>\n",
              "      <td>His father was Hermann Einstein and his mother...</td>\n",
              "    </tr>\n",
              "    <tr>\n",
              "      <th>4</th>\n",
              "      <td>Did he have any sisters and brothers?</td>\n",
              "      <td>He had one sister named Maja.</td>\n",
              "    </tr>\n",
              "    <tr>\n",
              "      <th>5</th>\n",
              "      <td>Did he marry and have children?</td>\n",
              "      <td>He was married to Mileva Marić between 1903 an...</td>\n",
              "    </tr>\n",
              "    <tr>\n",
              "      <th>6</th>\n",
              "      <td>Where did he receive his education?</td>\n",
              "      <td>He received his main education at the followin...</td>\n",
              "    </tr>\n",
              "    <tr>\n",
              "      <th>7</th>\n",
              "      <td>When was Albert Einstein awarded the Nobel Pri...</td>\n",
              "      <td>The Nobel Prize Awarding Institution, the Roya...</td>\n",
              "    </tr>\n",
              "    <tr>\n",
              "      <th>8</th>\n",
              "      <td>Did Albert Einstein attend the Nobel Prize Awa...</td>\n",
              "      <td>The Nobel Prize was announced on 9 November 19...</td>\n",
              "    </tr>\n",
              "    <tr>\n",
              "      <th>9</th>\n",
              "      <td>For what did he receive the Nobel Prize?</td>\n",
              "      <td>Einstein was rewarded for his many contributio...</td>\n",
              "    </tr>\n",
              "  </tbody>\n",
              "</table>\n",
              "</div>\n",
              "      <button class=\"colab-df-convert\" onclick=\"convertToInteractive('df-4b5dfa91-35eb-40cf-8740-0df16dbf0b20')\"\n",
              "              title=\"Convert this dataframe to an interactive table.\"\n",
              "              style=\"display:none;\">\n",
              "        \n",
              "  <svg xmlns=\"http://www.w3.org/2000/svg\" height=\"24px\"viewBox=\"0 0 24 24\"\n",
              "       width=\"24px\">\n",
              "    <path d=\"M0 0h24v24H0V0z\" fill=\"none\"/>\n",
              "    <path d=\"M18.56 5.44l.94 2.06.94-2.06 2.06-.94-2.06-.94-.94-2.06-.94 2.06-2.06.94zm-11 1L8.5 8.5l.94-2.06 2.06-.94-2.06-.94L8.5 2.5l-.94 2.06-2.06.94zm10 10l.94 2.06.94-2.06 2.06-.94-2.06-.94-.94-2.06-.94 2.06-2.06.94z\"/><path d=\"M17.41 7.96l-1.37-1.37c-.4-.4-.92-.59-1.43-.59-.52 0-1.04.2-1.43.59L10.3 9.45l-7.72 7.72c-.78.78-.78 2.05 0 2.83L4 21.41c.39.39.9.59 1.41.59.51 0 1.02-.2 1.41-.59l7.78-7.78 2.81-2.81c.8-.78.8-2.07 0-2.86zM5.41 20L4 18.59l7.72-7.72 1.47 1.35L5.41 20z\"/>\n",
              "  </svg>\n",
              "      </button>\n",
              "      \n",
              "  <style>\n",
              "    .colab-df-container {\n",
              "      display:flex;\n",
              "      flex-wrap:wrap;\n",
              "      gap: 12px;\n",
              "    }\n",
              "\n",
              "    .colab-df-convert {\n",
              "      background-color: #E8F0FE;\n",
              "      border: none;\n",
              "      border-radius: 50%;\n",
              "      cursor: pointer;\n",
              "      display: none;\n",
              "      fill: #1967D2;\n",
              "      height: 32px;\n",
              "      padding: 0 0 0 0;\n",
              "      width: 32px;\n",
              "    }\n",
              "\n",
              "    .colab-df-convert:hover {\n",
              "      background-color: #E2EBFA;\n",
              "      box-shadow: 0px 1px 2px rgba(60, 64, 67, 0.3), 0px 1px 3px 1px rgba(60, 64, 67, 0.15);\n",
              "      fill: #174EA6;\n",
              "    }\n",
              "\n",
              "    [theme=dark] .colab-df-convert {\n",
              "      background-color: #3B4455;\n",
              "      fill: #D2E3FC;\n",
              "    }\n",
              "\n",
              "    [theme=dark] .colab-df-convert:hover {\n",
              "      background-color: #434B5C;\n",
              "      box-shadow: 0px 1px 3px 1px rgba(0, 0, 0, 0.15);\n",
              "      filter: drop-shadow(0px 1px 2px rgba(0, 0, 0, 0.3));\n",
              "      fill: #FFFFFF;\n",
              "    }\n",
              "  </style>\n",
              "\n",
              "      <script>\n",
              "        const buttonEl =\n",
              "          document.querySelector('#df-4b5dfa91-35eb-40cf-8740-0df16dbf0b20 button.colab-df-convert');\n",
              "        buttonEl.style.display =\n",
              "          google.colab.kernel.accessAllowed ? 'block' : 'none';\n",
              "\n",
              "        async function convertToInteractive(key) {\n",
              "          const element = document.querySelector('#df-4b5dfa91-35eb-40cf-8740-0df16dbf0b20');\n",
              "          const dataTable =\n",
              "            await google.colab.kernel.invokeFunction('convertToInteractive',\n",
              "                                                     [key], {});\n",
              "          if (!dataTable) return;\n",
              "\n",
              "          const docLinkHtml = 'Like what you see? Visit the ' +\n",
              "            '<a target=\"_blank\" href=https://colab.research.google.com/notebooks/data_table.ipynb>data table notebook</a>'\n",
              "            + ' to learn more about interactive tables.';\n",
              "          element.innerHTML = '';\n",
              "          dataTable['output_type'] = 'display_data';\n",
              "          await google.colab.output.renderOutput(dataTable, element);\n",
              "          const docLink = document.createElement('div');\n",
              "          docLink.innerHTML = docLinkHtml;\n",
              "          element.appendChild(docLink);\n",
              "        }\n",
              "      </script>\n",
              "    </div>\n",
              "  </div>\n",
              "  "
            ]
          },
          "metadata": {},
          "execution_count": 13
        }
      ]
    },
    {
      "cell_type": "markdown",
      "metadata": {
        "id": "jx8GakBta1ba"
      },
      "source": [
        "##Data Preprocessing"
      ]
    },
    {
      "cell_type": "code",
      "metadata": {
        "id": "CKYjAjKIMNuD",
        "outputId": "ead167bd-7bc6-41b4-dfa6-0a02482502b6",
        "colab": {
          "base_uri": "https://localhost:8080/"
        }
      },
      "source": [
        "import re\n",
        "import gensim \n",
        "from gensim.parsing.preprocessing import remove_stopwords\n",
        "\n",
        "#keeping only words in the sentence and removing punctuations.\n",
        "\n",
        "def clean_sentence(sentence, stopwords=False):\n",
        "    \n",
        "    sentence = sentence.lower().strip()\n",
        "    sentence = re.sub(r'[^a-z0-9\\s]', '', sentence)\n",
        "\n",
        "    \n",
        "    if stopwords:\n",
        "         sentence = remove_stopwords(sentence)\n",
        "    \n",
        "\n",
        "    \n",
        "    return sentence\n",
        "                    \n",
        "def get_cleaned_sentences(df,stopwords=False):    \n",
        "    sents=df[[\"questions\"]];\n",
        "    cleaned_sentences=[]\n",
        "\n",
        "    for index,row in df.iterrows():\n",
        "        #print(index,row)\n",
        "        cleaned=clean_sentence(row[\"questions\"],stopwords);\n",
        "        cleaned_sentences.append(cleaned);\n",
        "    return cleaned_sentences;\n",
        "\n",
        "cleaned_sentences=get_cleaned_sentences(df,stopwords=True)\n",
        "#print(cleaned_sentences);\n",
        "\n",
        "print(\"\\n\")\n",
        "\n",
        "cleaned_sentences_with_stopwords=get_cleaned_sentences(df,stopwords=False)\n",
        "#print(cleaned_sentences_with_stopwords[0]);"
      ],
      "execution_count": 14,
      "outputs": [
        {
          "output_type": "stream",
          "name": "stdout",
          "text": [
            "\n",
            "\n"
          ]
        }
      ]
    },
    {
      "cell_type": "code",
      "source": [
        "df.shape"
      ],
      "metadata": {
        "colab": {
          "base_uri": "https://localhost:8080/"
        },
        "id": "2-xJgtNkva49",
        "outputId": "01a28aa7-bea9-4cfe-dbe1-1c8d47b7759d"
      },
      "execution_count": 15,
      "outputs": [
        {
          "output_type": "execute_result",
          "data": {
            "text/plain": [
              "(10, 2)"
            ]
          },
          "metadata": {},
          "execution_count": 15
        }
      ]
    },
    {
      "cell_type": "code",
      "source": [
        "df.columns"
      ],
      "metadata": {
        "colab": {
          "base_uri": "https://localhost:8080/"
        },
        "id": "HyFWo8pfveH3",
        "outputId": "f2cabefb-0eeb-4887-f343-a825ac218daf"
      },
      "execution_count": 16,
      "outputs": [
        {
          "output_type": "execute_result",
          "data": {
            "text/plain": [
              "Index(['questions', 'answers'], dtype='object')"
            ]
          },
          "metadata": {},
          "execution_count": 16
        }
      ]
    },
    {
      "cell_type": "code",
      "source": [
        "print(df.isnull().sum())"
      ],
      "metadata": {
        "colab": {
          "base_uri": "https://localhost:8080/"
        },
        "id": "ivD6ksoQvib1",
        "outputId": "528c87d7-1a93-48d3-ed65-03cb44012e03"
      },
      "execution_count": 17,
      "outputs": [
        {
          "output_type": "stream",
          "name": "stdout",
          "text": [
            "questions    0\n",
            "answers      0\n",
            "dtype: int64\n"
          ]
        }
      ]
    },
    {
      "cell_type": "code",
      "metadata": {
        "id": "W60k9PEUckz_",
        "outputId": "e0d9d70c-d147-4c82-9899-8fce645e2703",
        "colab": {
          "base_uri": "https://localhost:8080/"
        }
      },
      "source": [
        "print(cleaned_sentences_with_stopwords[0]);"
      ],
      "execution_count": 18,
      "outputs": [
        {
          "output_type": "stream",
          "name": "stdout",
          "text": [
            "when was albert einstein born\n"
          ]
        }
      ]
    },
    {
      "cell_type": "markdown",
      "metadata": {
        "id": "6c5XPbI0u3uR"
      },
      "source": [
        "##Word2Vec-Skipgram Model"
      ]
    },
    {
      "cell_type": "code",
      "metadata": {
        "id": "__W7NbDAs6js",
        "outputId": "6bbeb80f-b198-4579-c817-692230d1afa6",
        "colab": {
          "base_uri": "https://localhost:8080/"
        }
      },
      "source": [
        "from gensim.models import Word2Vec \n",
        "import gensim.downloader as api\n",
        "\n",
        "#loading Word2vec google news pretrained model  \n",
        "v2w_model=None;\n",
        "try:\n",
        "    v2w_model = gensim.models.KeyedVectors.load(\"./w2vecmodel.mod\")\n",
        "    print(\"Loaded saved W2V model\")\n",
        "except:            \n",
        "    v2w_model = api.load('word2vec-google-news-300')\n",
        "    v2w_model.save(\"./w2vecmodel.mod\")\n",
        "    print(\"Downloaded and saved glove model\")\n",
        "\n",
        "w2vec_embedding_size=len(v2w_model['computer']);"
      ],
      "execution_count": 19,
      "outputs": [
        {
          "output_type": "stream",
          "name": "stdout",
          "text": [
            "Downloaded and saved glove model\n"
          ]
        }
      ]
    },
    {
      "cell_type": "code",
      "metadata": {
        "id": "I59O3tZTtUdi"
      },
      "source": [
        "#creating vectors\n",
        "def getWordVec(word,model):\n",
        "        samp=model['computer'];\n",
        "        vec=[0]*len(samp);\n",
        "        try:\n",
        "                vec=model[word];\n",
        "        except:\n",
        "                vec=[0]*len(samp);\n",
        "        return (vec)\n",
        "\n",
        "\n",
        "def getPhraseEmbedding(phrase,embeddingmodel):\n",
        "                       \n",
        "        samp=getWordVec('computer', embeddingmodel);\n",
        "        vec=numpy.array([0]*len(samp));\n",
        "        den=0;\n",
        "        for word in phrase.split():\n",
        "            #print(word)\n",
        "            den=den+1;\n",
        "            vec=vec+numpy.array(getWordVec(word,embeddingmodel));\n",
        "\n",
        "        return vec.reshape(1, -1)"
      ],
      "execution_count": 20,
      "outputs": []
    },
    {
      "cell_type": "code",
      "metadata": {
        "id": "HJxAgmWny5uw"
      },
      "source": [
        "import sklearn\n",
        "from sklearn.metrics.pairwise import cosine_similarity;\n",
        "#finding cosine similarity from vectors\n",
        "def retrieveAndPrintFAQAnswer(question_embedding,sentence_embeddings,FAQdf,sentences):\n",
        "    max_sim=-1;\n",
        "    index_sim=-1;\n",
        "    for index,faq_embedding in enumerate(sentence_embeddings):\n",
        "        #sim=cosine_similarity(embedding.reshape(1, -1),question_embedding.reshape(1, -1))[0][0];\n",
        "        sim=cosine_similarity(faq_embedding,question_embedding)[0][0];\n",
        "        print(index, sim, sentences[index])\n",
        "        if sim>max_sim:\n",
        "            max_sim=sim;\n",
        "            index_sim=index;\n",
        "    print(\"\\n\")\n",
        "    print(\"Question: \",question)\n",
        "    print(\"\\n\");\n",
        "    print(\"Retrieved: \",FAQdf.iloc[index_sim,0]) \n",
        "    print(FAQdf.iloc[index_sim,1]) "
      ],
      "execution_count": 21,
      "outputs": []
    },
    {
      "cell_type": "code",
      "metadata": {
        "id": "X3TNh0-Aymx_"
      },
      "source": [
        "question_orig=\"Who was his wife?\"\n",
        "#question_orig=input()\n",
        "question=clean_sentence(question_orig,stopwords=False);"
      ],
      "execution_count": 22,
      "outputs": []
    },
    {
      "cell_type": "code",
      "metadata": {
        "id": "Cb8cXiNutWcf",
        "outputId": "c71953f8-3074-41b4-c3d5-900b813318a6",
        "colab": {
          "base_uri": "https://localhost:8080/"
        }
      },
      "source": [
        "#With w2Vec\n",
        "import numpy\n",
        "sent_embeddings=[];\n",
        "for sent in cleaned_sentences:\n",
        "    sent_embeddings.append(getPhraseEmbedding(sent,v2w_model));\n",
        "\n",
        "question_embedding=getPhraseEmbedding(question,v2w_model);\n",
        "\n",
        "retrieveAndPrintFAQAnswer(question_embedding,sent_embeddings,df, cleaned_sentences);"
      ],
      "execution_count": 23,
      "outputs": [
        {
          "output_type": "stream",
          "name": "stdout",
          "text": [
            "0 0.25802384215964247 albert einstein born\n",
            "1 0.32660566691400267 born\n",
            "2 0.1614098551897814 die\n",
            "3 0.3614683752376988 parents\n",
            "4 0.3834036401370407 sisters brothers\n",
            "5 0.3912437999536038 marry children\n",
            "6 0.10785768332422598 receive education\n",
            "7 0.15500725625985434 albert einstein awarded nobel prize physics\n",
            "8 0.2631050850224404 albert einstein attend nobel prize award ceremony\n",
            "9 0.15663458974063318 receive nobel prize\n",
            "\n",
            "\n",
            "Question:  who was his wife\n",
            "\n",
            "\n",
            "Retrieved:  Did he marry and have children?\n",
            "He was married to Mileva Marić between 1903 and 1919. They had three children, Lieserl (born 1902), Hans Albert (born 1904) and Eduard (born 1910). He married Elsa Löwenthal in 1919 and they lived together until her death in 1936.\n"
          ]
        }
      ]
    },
    {
      "cell_type": "markdown",
      "metadata": {
        "id": "A7cHSvBHidRO"
      },
      "source": [
        "#Implementing Chatbot using Word2Vec"
      ]
    },
    {
      "cell_type": "code",
      "metadata": {
        "id": "-2dpBwuLJvwL"
      },
      "source": [
        "#embedding the exsiting dataset\n",
        "sent_embeddings=[];\n",
        "for sent in cleaned_sentences:\n",
        "  sent_embeddings.append(getPhraseEmbedding(sent,v2w_model));"
      ],
      "execution_count": 24,
      "outputs": []
    },
    {
      "cell_type": "code",
      "metadata": {
        "id": "ar79m_aWT-O-",
        "outputId": "370bba26-3ad0-426b-ecc2-a6f050e3a684",
        "colab": {
          "base_uri": "https://localhost:8080/"
        }
      },
      "source": [
        "import sklearn\n",
        "from sklearn.metrics.pairwise import cosine_similarity;\n",
        "import numpy\n",
        "import time\n",
        "\n",
        "print(\"Welcome to the Question Answering System\")      \n",
        "\n",
        "while True:\n",
        "  print(\"Question:\") \n",
        "  \n",
        "  question_orig=input()\n",
        "  \n",
        "  if (question_orig.lower()=='quit'):\n",
        "    break\n",
        "  measure1 = time.time()\n",
        "  question=clean_sentence(question_orig,stopwords=False);\n",
        "  \n",
        "\n",
        "\n",
        "  question_embedding=getPhraseEmbedding(question,v2w_model);  \n",
        "  def retrieveAndPrintFAQAnswer(question_embedding,sentence_embeddings,FAQdf,sentences):\n",
        "    max_sim=-1;\n",
        "    index_sim=-1;\n",
        "    for index,faq_embedding in enumerate(sentence_embeddings):\n",
        "      sim=cosine_similarity(faq_embedding,question_embedding)[0][0];\n",
        "      #print(index, sim, sentences[index])\n",
        "      if sim>max_sim:\n",
        "        max_sim=sim;\n",
        "        index_sim=index;\n",
        "    #print(\"\\n\")\n",
        "    #print(\"Question: \",question)\n",
        "    #print(\"\\n\");\n",
        "    #print(\"Retrieved: \",FAQdf.iloc[index_sim,0]) \n",
        "    #print(FAQdf.iloc[index_sim,1]) \n",
        "    print(\"Answer:\",FAQdf.iloc[index_sim,1])\n",
        "    print(\"----------------------\")\n",
        "    measure2 = time.time()\n",
        "    print(\"Response Time\",measure2 - measure1)\n",
        "    print(\"----------------------\")\n",
        "    print(\"\\n\");\n",
        "    print(\"Enter Quit to exit: \")\n",
        "  retrieveAndPrintFAQAnswer(question_embedding,sent_embeddings,df, cleaned_sentences);\n",
        "\n",
        "\n",
        "\n",
        "\n",
        "print(\"----------------------\")\n",
        "print(\"Thank You\")\n",
        "print(\"----------------------\")"
      ],
      "execution_count": 25,
      "outputs": [
        {
          "output_type": "stream",
          "name": "stdout",
          "text": [
            "Welcome to the Question Answering System\n",
            "Question:\n",
            "What was Einstein's father's name?\n",
            "Answer: His father was Hermann Einstein and his mother was Pauline Einstein (born Koch).\n",
            "----------------------\n",
            "Response Time 0.0053060054779052734\n",
            "----------------------\n",
            "\n",
            "\n",
            "Enter Quit to exit: \n",
            "Question:\n",
            "At what institutions did he study?\n",
            "Answer: He received his main education at the following schools: Catholic elementary school in Munich, Germany (1885-1888)Luitpold Gymnasium in Munich, Germany (1888-1894) Cantonal school in Aarau, Switzerland (1895-1896) Swiss Federal Institute of Technology in Zurich, Switzerland (1896-1900) Ph.D. from Zurich University, Switzerland (1905)\n",
            "----------------------\n",
            "Response Time 0.004952669143676758\n",
            "----------------------\n",
            "\n",
            "\n",
            "Enter Quit to exit: \n",
            "Question:\n",
            "quit\n",
            "----------------------\n",
            "Thank You\n",
            "----------------------\n"
          ]
        }
      ]
    },
    {
      "cell_type": "code",
      "source": [
        "df.columns"
      ],
      "metadata": {
        "colab": {
          "base_uri": "https://localhost:8080/"
        },
        "id": "QAcXc1ug5LP9",
        "outputId": "b408dfde-e3c8-4d07-f7c1-81d97a7fdc79"
      },
      "execution_count": 42,
      "outputs": [
        {
          "output_type": "execute_result",
          "data": {
            "text/plain": [
              "Index(['questions', 'answers'], dtype='object')"
            ]
          },
          "metadata": {},
          "execution_count": 42
        }
      ]
    },
    {
      "cell_type": "markdown",
      "source": [],
      "metadata": {
        "id": "B9rUxffl5oII"
      }
    },
    {
      "cell_type": "markdown",
      "source": [
        "#**Test Data**"
      ],
      "metadata": {
        "id": "evPfRnrP7YKI"
      }
    },
    {
      "cell_type": "code",
      "metadata": {
        "id": "4R88GCS-0ReG",
        "outputId": "1b64f637-096e-4b0c-d5c2-1d810648ed54",
        "colab": {
          "base_uri": "https://localhost:8080/",
          "height": 206
        }
      },
      "source": [
        "import pandas as pd;\n",
        "\n",
        "#Load dataset and rename columns\n",
        "\n",
        "df_test= pd.read_csv(\"/content/drive/MyDrive/Thesis/Dataset/FAQs_test.csv\")\n",
        "df_test.columns=[\"questions\"];\n",
        "\n",
        "df_test"
      ],
      "execution_count": 52,
      "outputs": [
        {
          "output_type": "execute_result",
          "data": {
            "text/plain": [
              "                            questions\n",
              "0      What is the date of his death?\n",
              "1         Did Einstein have siblings?\n",
              "2                   Who was his wife?\n",
              "3  What was Einstein's father's name?\n",
              "4  At what institutions did he study?"
            ],
            "text/html": [
              "\n",
              "  <div id=\"df-12faa371-1093-4b6e-a345-d22082d0a118\">\n",
              "    <div class=\"colab-df-container\">\n",
              "      <div>\n",
              "<style scoped>\n",
              "    .dataframe tbody tr th:only-of-type {\n",
              "        vertical-align: middle;\n",
              "    }\n",
              "\n",
              "    .dataframe tbody tr th {\n",
              "        vertical-align: top;\n",
              "    }\n",
              "\n",
              "    .dataframe thead th {\n",
              "        text-align: right;\n",
              "    }\n",
              "</style>\n",
              "<table border=\"1\" class=\"dataframe\">\n",
              "  <thead>\n",
              "    <tr style=\"text-align: right;\">\n",
              "      <th></th>\n",
              "      <th>questions</th>\n",
              "    </tr>\n",
              "  </thead>\n",
              "  <tbody>\n",
              "    <tr>\n",
              "      <th>0</th>\n",
              "      <td>What is the date of his death?</td>\n",
              "    </tr>\n",
              "    <tr>\n",
              "      <th>1</th>\n",
              "      <td>Did Einstein have siblings?</td>\n",
              "    </tr>\n",
              "    <tr>\n",
              "      <th>2</th>\n",
              "      <td>Who was his wife?</td>\n",
              "    </tr>\n",
              "    <tr>\n",
              "      <th>3</th>\n",
              "      <td>What was Einstein's father's name?</td>\n",
              "    </tr>\n",
              "    <tr>\n",
              "      <th>4</th>\n",
              "      <td>At what institutions did he study?</td>\n",
              "    </tr>\n",
              "  </tbody>\n",
              "</table>\n",
              "</div>\n",
              "      <button class=\"colab-df-convert\" onclick=\"convertToInteractive('df-12faa371-1093-4b6e-a345-d22082d0a118')\"\n",
              "              title=\"Convert this dataframe to an interactive table.\"\n",
              "              style=\"display:none;\">\n",
              "        \n",
              "  <svg xmlns=\"http://www.w3.org/2000/svg\" height=\"24px\"viewBox=\"0 0 24 24\"\n",
              "       width=\"24px\">\n",
              "    <path d=\"M0 0h24v24H0V0z\" fill=\"none\"/>\n",
              "    <path d=\"M18.56 5.44l.94 2.06.94-2.06 2.06-.94-2.06-.94-.94-2.06-.94 2.06-2.06.94zm-11 1L8.5 8.5l.94-2.06 2.06-.94-2.06-.94L8.5 2.5l-.94 2.06-2.06.94zm10 10l.94 2.06.94-2.06 2.06-.94-2.06-.94-.94-2.06-.94 2.06-2.06.94z\"/><path d=\"M17.41 7.96l-1.37-1.37c-.4-.4-.92-.59-1.43-.59-.52 0-1.04.2-1.43.59L10.3 9.45l-7.72 7.72c-.78.78-.78 2.05 0 2.83L4 21.41c.39.39.9.59 1.41.59.51 0 1.02-.2 1.41-.59l7.78-7.78 2.81-2.81c.8-.78.8-2.07 0-2.86zM5.41 20L4 18.59l7.72-7.72 1.47 1.35L5.41 20z\"/>\n",
              "  </svg>\n",
              "      </button>\n",
              "      \n",
              "  <style>\n",
              "    .colab-df-container {\n",
              "      display:flex;\n",
              "      flex-wrap:wrap;\n",
              "      gap: 12px;\n",
              "    }\n",
              "\n",
              "    .colab-df-convert {\n",
              "      background-color: #E8F0FE;\n",
              "      border: none;\n",
              "      border-radius: 50%;\n",
              "      cursor: pointer;\n",
              "      display: none;\n",
              "      fill: #1967D2;\n",
              "      height: 32px;\n",
              "      padding: 0 0 0 0;\n",
              "      width: 32px;\n",
              "    }\n",
              "\n",
              "    .colab-df-convert:hover {\n",
              "      background-color: #E2EBFA;\n",
              "      box-shadow: 0px 1px 2px rgba(60, 64, 67, 0.3), 0px 1px 3px 1px rgba(60, 64, 67, 0.15);\n",
              "      fill: #174EA6;\n",
              "    }\n",
              "\n",
              "    [theme=dark] .colab-df-convert {\n",
              "      background-color: #3B4455;\n",
              "      fill: #D2E3FC;\n",
              "    }\n",
              "\n",
              "    [theme=dark] .colab-df-convert:hover {\n",
              "      background-color: #434B5C;\n",
              "      box-shadow: 0px 1px 3px 1px rgba(0, 0, 0, 0.15);\n",
              "      filter: drop-shadow(0px 1px 2px rgba(0, 0, 0, 0.3));\n",
              "      fill: #FFFFFF;\n",
              "    }\n",
              "  </style>\n",
              "\n",
              "      <script>\n",
              "        const buttonEl =\n",
              "          document.querySelector('#df-12faa371-1093-4b6e-a345-d22082d0a118 button.colab-df-convert');\n",
              "        buttonEl.style.display =\n",
              "          google.colab.kernel.accessAllowed ? 'block' : 'none';\n",
              "\n",
              "        async function convertToInteractive(key) {\n",
              "          const element = document.querySelector('#df-12faa371-1093-4b6e-a345-d22082d0a118');\n",
              "          const dataTable =\n",
              "            await google.colab.kernel.invokeFunction('convertToInteractive',\n",
              "                                                     [key], {});\n",
              "          if (!dataTable) return;\n",
              "\n",
              "          const docLinkHtml = 'Like what you see? Visit the ' +\n",
              "            '<a target=\"_blank\" href=https://colab.research.google.com/notebooks/data_table.ipynb>data table notebook</a>'\n",
              "            + ' to learn more about interactive tables.';\n",
              "          element.innerHTML = '';\n",
              "          dataTable['output_type'] = 'display_data';\n",
              "          await google.colab.output.renderOutput(dataTable, element);\n",
              "          const docLink = document.createElement('div');\n",
              "          docLink.innerHTML = docLinkHtml;\n",
              "          element.appendChild(docLink);\n",
              "        }\n",
              "      </script>\n",
              "    </div>\n",
              "  </div>\n",
              "  "
            ]
          },
          "metadata": {},
          "execution_count": 52
        }
      ]
    },
    {
      "cell_type": "code",
      "source": [
        "df_test.columns"
      ],
      "metadata": {
        "colab": {
          "base_uri": "https://localhost:8080/"
        },
        "id": "Q3WNUsUE5Rh1",
        "outputId": "2c24c9ea-06f7-47ff-861b-b7511cc66745"
      },
      "execution_count": 53,
      "outputs": [
        {
          "output_type": "execute_result",
          "data": {
            "text/plain": [
              "Index(['questions'], dtype='object')"
            ]
          },
          "metadata": {},
          "execution_count": 53
        }
      ]
    },
    {
      "cell_type": "code",
      "source": [
        "import sklearn\n",
        "from sklearn.metrics.pairwise import cosine_similarity;\n",
        "def retrieveAndPrintFAQAnswer(question_embeddings_test,sentence_embeddings,FAQdf,sentences,FAQdf_test,sentences_test):\n",
        "  for index_test,faq_embedding_test in enumerate(question_embeddings_test):\n",
        "    max_sim=-1;\n",
        "    index_sim=-1;\n",
        "    for index,faq_embedding in enumerate(sentence_embeddings):\n",
        "        \n",
        "      sim=cosine_similarity(faq_embedding,faq_embedding_test)[0][0];\n",
        "      #print(index, sim, sentences[index])\n",
        "      if sim>max_sim:\n",
        "        max_sim=sim;\n",
        "        index_sim=index;\n",
        "\n",
        "    FAQdf_test.iloc[index_test,2]=FAQdf.iloc[index_sim,2]\n",
        "    FAQdf_test.iloc[index_test,5]=FAQdf.iloc[index_sim,0]\n",
        "    print(\"\\n\")\n",
        "    print(\"Question: \",sentences_test[index_test])\n",
        "    print(\"\\n\");\n",
        "    print(\"Retrieved: \",FAQdf.iloc[index_sim,0]) \n",
        "    print(\"Answer:\",FAQdf.iloc[index_sim,1])    \n",
        "        "
      ],
      "metadata": {
        "id": "o8rxLRtM33az"
      },
      "execution_count": 58,
      "outputs": []
    },
    {
      "cell_type": "code",
      "source": [
        "df.columns"
      ],
      "metadata": {
        "colab": {
          "base_uri": "https://localhost:8080/"
        },
        "id": "lpsU_wT45G39",
        "outputId": "6a1bd387-62d0-4212-c75e-aca0e1cc942a"
      },
      "execution_count": 41,
      "outputs": [
        {
          "output_type": "execute_result",
          "data": {
            "text/plain": [
              "Index(['questions', 'answers'], dtype='object')"
            ]
          },
          "metadata": {},
          "execution_count": 41
        }
      ]
    },
    {
      "cell_type": "code",
      "source": [
        "for i in range(df_test.shape[0]):\n",
        " if df_test.iloc[i,0]!=df_test.iloc[i,0]:\n",
        "   df_test.iloc[i,0]='InCorrect'\n",
        " else:\n",
        "   df_test.iloc[i,0]='correct'\n",
        "df_test"
      ],
      "metadata": {
        "colab": {
          "base_uri": "https://localhost:8080/",
          "height": 206
        },
        "id": "ZeX7NZa84Fid",
        "outputId": "0fdeacec-91f0-42af-c513-f7e06c7e633a"
      },
      "execution_count": 49,
      "outputs": [
        {
          "output_type": "execute_result",
          "data": {
            "text/plain": [
              "  questions\n",
              "0   correct\n",
              "1   correct\n",
              "2   correct\n",
              "3   correct\n",
              "4   correct"
            ],
            "text/html": [
              "\n",
              "  <div id=\"df-95f4e3fd-ba62-4e11-a830-84a22b78f0f4\">\n",
              "    <div class=\"colab-df-container\">\n",
              "      <div>\n",
              "<style scoped>\n",
              "    .dataframe tbody tr th:only-of-type {\n",
              "        vertical-align: middle;\n",
              "    }\n",
              "\n",
              "    .dataframe tbody tr th {\n",
              "        vertical-align: top;\n",
              "    }\n",
              "\n",
              "    .dataframe thead th {\n",
              "        text-align: right;\n",
              "    }\n",
              "</style>\n",
              "<table border=\"1\" class=\"dataframe\">\n",
              "  <thead>\n",
              "    <tr style=\"text-align: right;\">\n",
              "      <th></th>\n",
              "      <th>questions</th>\n",
              "    </tr>\n",
              "  </thead>\n",
              "  <tbody>\n",
              "    <tr>\n",
              "      <th>0</th>\n",
              "      <td>correct</td>\n",
              "    </tr>\n",
              "    <tr>\n",
              "      <th>1</th>\n",
              "      <td>correct</td>\n",
              "    </tr>\n",
              "    <tr>\n",
              "      <th>2</th>\n",
              "      <td>correct</td>\n",
              "    </tr>\n",
              "    <tr>\n",
              "      <th>3</th>\n",
              "      <td>correct</td>\n",
              "    </tr>\n",
              "    <tr>\n",
              "      <th>4</th>\n",
              "      <td>correct</td>\n",
              "    </tr>\n",
              "  </tbody>\n",
              "</table>\n",
              "</div>\n",
              "      <button class=\"colab-df-convert\" onclick=\"convertToInteractive('df-95f4e3fd-ba62-4e11-a830-84a22b78f0f4')\"\n",
              "              title=\"Convert this dataframe to an interactive table.\"\n",
              "              style=\"display:none;\">\n",
              "        \n",
              "  <svg xmlns=\"http://www.w3.org/2000/svg\" height=\"24px\"viewBox=\"0 0 24 24\"\n",
              "       width=\"24px\">\n",
              "    <path d=\"M0 0h24v24H0V0z\" fill=\"none\"/>\n",
              "    <path d=\"M18.56 5.44l.94 2.06.94-2.06 2.06-.94-2.06-.94-.94-2.06-.94 2.06-2.06.94zm-11 1L8.5 8.5l.94-2.06 2.06-.94-2.06-.94L8.5 2.5l-.94 2.06-2.06.94zm10 10l.94 2.06.94-2.06 2.06-.94-2.06-.94-.94-2.06-.94 2.06-2.06.94z\"/><path d=\"M17.41 7.96l-1.37-1.37c-.4-.4-.92-.59-1.43-.59-.52 0-1.04.2-1.43.59L10.3 9.45l-7.72 7.72c-.78.78-.78 2.05 0 2.83L4 21.41c.39.39.9.59 1.41.59.51 0 1.02-.2 1.41-.59l7.78-7.78 2.81-2.81c.8-.78.8-2.07 0-2.86zM5.41 20L4 18.59l7.72-7.72 1.47 1.35L5.41 20z\"/>\n",
              "  </svg>\n",
              "      </button>\n",
              "      \n",
              "  <style>\n",
              "    .colab-df-container {\n",
              "      display:flex;\n",
              "      flex-wrap:wrap;\n",
              "      gap: 12px;\n",
              "    }\n",
              "\n",
              "    .colab-df-convert {\n",
              "      background-color: #E8F0FE;\n",
              "      border: none;\n",
              "      border-radius: 50%;\n",
              "      cursor: pointer;\n",
              "      display: none;\n",
              "      fill: #1967D2;\n",
              "      height: 32px;\n",
              "      padding: 0 0 0 0;\n",
              "      width: 32px;\n",
              "    }\n",
              "\n",
              "    .colab-df-convert:hover {\n",
              "      background-color: #E2EBFA;\n",
              "      box-shadow: 0px 1px 2px rgba(60, 64, 67, 0.3), 0px 1px 3px 1px rgba(60, 64, 67, 0.15);\n",
              "      fill: #174EA6;\n",
              "    }\n",
              "\n",
              "    [theme=dark] .colab-df-convert {\n",
              "      background-color: #3B4455;\n",
              "      fill: #D2E3FC;\n",
              "    }\n",
              "\n",
              "    [theme=dark] .colab-df-convert:hover {\n",
              "      background-color: #434B5C;\n",
              "      box-shadow: 0px 1px 3px 1px rgba(0, 0, 0, 0.15);\n",
              "      filter: drop-shadow(0px 1px 2px rgba(0, 0, 0, 0.3));\n",
              "      fill: #FFFFFF;\n",
              "    }\n",
              "  </style>\n",
              "\n",
              "      <script>\n",
              "        const buttonEl =\n",
              "          document.querySelector('#df-95f4e3fd-ba62-4e11-a830-84a22b78f0f4 button.colab-df-convert');\n",
              "        buttonEl.style.display =\n",
              "          google.colab.kernel.accessAllowed ? 'block' : 'none';\n",
              "\n",
              "        async function convertToInteractive(key) {\n",
              "          const element = document.querySelector('#df-95f4e3fd-ba62-4e11-a830-84a22b78f0f4');\n",
              "          const dataTable =\n",
              "            await google.colab.kernel.invokeFunction('convertToInteractive',\n",
              "                                                     [key], {});\n",
              "          if (!dataTable) return;\n",
              "\n",
              "          const docLinkHtml = 'Like what you see? Visit the ' +\n",
              "            '<a target=\"_blank\" href=https://colab.research.google.com/notebooks/data_table.ipynb>data table notebook</a>'\n",
              "            + ' to learn more about interactive tables.';\n",
              "          element.innerHTML = '';\n",
              "          dataTable['output_type'] = 'display_data';\n",
              "          await google.colab.output.renderOutput(dataTable, element);\n",
              "          const docLink = document.createElement('div');\n",
              "          docLink.innerHTML = docLinkHtml;\n",
              "          element.appendChild(docLink);\n",
              "        }\n",
              "      </script>\n",
              "    </div>\n",
              "  </div>\n",
              "  "
            ]
          },
          "metadata": {},
          "execution_count": 49
        }
      ]
    },
    {
      "cell_type": "code",
      "metadata": {
        "id": "KiYRIGu9zvWO",
        "outputId": "e5c84100-fbb8-4535-8b77-f6c7198e8e9f",
        "colab": {
          "base_uri": "https://localhost:8080/"
        }
      },
      "source": [
        "print(cleaned_sentences_with_stopwords[0]);"
      ],
      "execution_count": 59,
      "outputs": [
        {
          "output_type": "stream",
          "name": "stdout",
          "text": [
            "when was albert einstein born\n"
          ]
        }
      ]
    },
    {
      "cell_type": "code",
      "source": [
        "list_data_answers=df.questions.values.tolist()\n",
        "list_data_FoundCode=df.answers.tolist()"
      ],
      "metadata": {
        "id": "AJ29eiOq8jo0"
      },
      "execution_count": 63,
      "outputs": []
    },
    {
      "cell_type": "code",
      "source": [
        "from sklearn.metrics import multilabel_confusion_matrix\n",
        "from sklearn import metrics\n",
        "multilabel_confusion_matrix(list_data_answers, list_data_FoundCode)"
      ],
      "metadata": {
        "colab": {
          "base_uri": "https://localhost:8080/"
        },
        "id": "BiwfMtrR9PZH",
        "outputId": "d2017ffe-7ea4-4e3d-8a86-3e2361a371d5"
      },
      "execution_count": 64,
      "outputs": [
        {
          "output_type": "execute_result",
          "data": {
            "text/plain": [
              "array([[[9., 1.],\n",
              "        [0., 0.]],\n",
              "\n",
              "       [[9., 0.],\n",
              "        [1., 0.]],\n",
              "\n",
              "       [[9., 0.],\n",
              "        [1., 0.]],\n",
              "\n",
              "       [[9., 0.],\n",
              "        [1., 0.]],\n",
              "\n",
              "       [[9., 1.],\n",
              "        [0., 0.]],\n",
              "\n",
              "       [[9., 0.],\n",
              "        [1., 0.]],\n",
              "\n",
              "       [[9., 1.],\n",
              "        [0., 0.]],\n",
              "\n",
              "       [[9., 1.],\n",
              "        [0., 0.]],\n",
              "\n",
              "       [[9., 1.],\n",
              "        [0., 0.]],\n",
              "\n",
              "       [[9., 1.],\n",
              "        [0., 0.]],\n",
              "\n",
              "       [[9., 1.],\n",
              "        [0., 0.]],\n",
              "\n",
              "       [[9., 1.],\n",
              "        [0., 0.]],\n",
              "\n",
              "       [[9., 1.],\n",
              "        [0., 0.]],\n",
              "\n",
              "       [[9., 1.],\n",
              "        [0., 0.]],\n",
              "\n",
              "       [[9., 0.],\n",
              "        [1., 0.]],\n",
              "\n",
              "       [[9., 0.],\n",
              "        [1., 0.]],\n",
              "\n",
              "       [[9., 0.],\n",
              "        [1., 0.]],\n",
              "\n",
              "       [[9., 0.],\n",
              "        [1., 0.]],\n",
              "\n",
              "       [[9., 0.],\n",
              "        [1., 0.]],\n",
              "\n",
              "       [[9., 0.],\n",
              "        [1., 0.]]])"
            ]
          },
          "metadata": {},
          "execution_count": 64
        }
      ]
    },
    {
      "cell_type": "code",
      "source": [
        "import matplotlib.pyplot as plt\n",
        "from mlxtend.evaluate import confusion_matrix\n",
        "\n",
        "\n",
        "cm = confusion_matrix(list_data_answers, list_data_FoundCode, binary=False)"
      ],
      "metadata": {
        "id": "zDBXluNB9q7S"
      },
      "execution_count": 65,
      "outputs": []
    },
    {
      "cell_type": "code",
      "source": [
        "import matplotlib.pyplot as plt\n",
        "from mlxtend.evaluate import confusion_matrix\n",
        "from mlxtend.plotting import plot_confusion_matrix\n",
        "\n",
        "import pprint\n",
        "#creating confusion matrix\n",
        "fig, ax = plot_confusion_matrix(conf_mat=cm)\n",
        "plt.show()"
      ],
      "metadata": {
        "colab": {
          "base_uri": "https://localhost:8080/",
          "height": 335
        },
        "id": "BI8pGX_w9vG3",
        "outputId": "45671aaf-61d1-42c0-c461-4034cc29fffc"
      },
      "execution_count": 66,
      "outputs": [
        {
          "output_type": "stream",
          "name": "stderr",
          "text": [
            "/usr/local/lib/python3.7/dist-packages/mlxtend/plotting/plot_confusion_matrix.py:59: RuntimeWarning: invalid value encountered in true_divide\n",
            "  normed_conf_mat = conf_mat.astype('float') / total_samples\n"
          ]
        },
        {
          "output_type": "display_data",
          "data": {
            "text/plain": [
              "<Figure size 432x288 with 1 Axes>"
            ],
            "image/png": "[encoded data removed]"
          },
          "metadata": {
            "needs_background": "light"
          }
        }
      ]
    },
    {
      "cell_type": "code",
      "source": [
        "print(metrics.classification_report(list_data_answers, list_data_FoundCode))"
      ],
      "metadata": {
        "colab": {
          "base_uri": "https://localhost:8080/"
        },
        "id": "-s0dN_zw90Jm",
        "outputId": "7724d61e-3b9a-4fad-ea62-94b0d25d4b6e"
      },
      "execution_count": 67,
      "outputs": [
        {
          "output_type": "stream",
          "name": "stdout",
          "text": [
            "                                                                                                                                                                                                                                                                                                                                                 precision    recall  f1-score   support\n",
            "\n",
            "                                                                                                                                                                                                                                                                                                     Albert Einstein was born on 14 March 1879.       0.00      0.00      0.00       0.0\n",
            "                                                                                                                                                                                                                                                                                     Did Albert Einstein attend the Nobel Prize Award Ceremony?       0.00      0.00      0.00       1.0\n",
            "                                                                                                                                                                                                                                                                                                          Did he have any sisters and brothers?       0.00      0.00      0.00       1.0\n",
            "                                                                                                                                                                                                                                                                                                                Did he marry and have children?       0.00      0.00      0.00       1.0\n",
            "                                                                                                                                                                                              Einstein was rewarded for his many contributions to theoretical physics, and especially for his discovery of the law of the photoelectric effect.       0.00      0.00      0.00       0.0\n",
            "                                                                                                                                                                                                                                                                                                       For what did he receive the Nobel Prize?       0.00      0.00      0.00       1.0\n",
            "                                                                                                                                                                                                                                                                                           He died 18 April 1955 in Princeton, New Jersey, USA.       0.00      0.00      0.00       0.0\n",
            "                                                                                                                                                                                                                                                                                                                  He had one sister named Maja.       0.00      0.00      0.00       0.0\n",
            "He received his main education at the following schools: Catholic elementary school in Munich, Germany (1885-1888)Luitpold Gymnasium in Munich, Germany (1888-1894) Cantonal school in Aarau, Switzerland (1895-1896) Swiss Federal Institute of Technology in Zurich, Switzerland (1896-1900) Ph.D. from Zurich University, Switzerland (1905)       0.00      0.00      0.00       0.0\n",
            "                                                                                                                                                                                                                                                                                                                  He was born in Ulm, Germany.        0.00      0.00      0.00       0.0\n",
            "                                                                                                         He was married to Mileva Marić between 1903 and 1919. They had three children, Lieserl (born 1902), Hans Albert (born 1904) and Eduard (born 1910). He married Elsa Löwenthal in 1919 and they lived together until her death in 1936.       0.00      0.00      0.00       0.0\n",
            "                                                                                                                                                                                                                                                               His father was Hermann Einstein and his mother was Pauline Einstein (born Koch).       0.00      0.00      0.00       0.0\n",
            "  The Nobel Prize Awarding Institution, the Royal Swedish Academy of Sciences, decided to reserve the Nobel Prize in Physics in 1921, and therefore no Physics Prize was awarded that year. According to the statutes, a reserved prize can be awarded the year after, and Albert Einstein was awarded the 1921 Nobel Prize in Physics in 1922.       0.00      0.00      0.00       0.0\n",
            "                                                                                                                                                     The Nobel Prize was announced on 9 November 1922. Being too remote from Sweden, Albert Einstein could not attend the Nobel Prize Award Ceremony in Stockholm on 10 December the same year.       0.00      0.00      0.00       0.0\n",
            "                                                                                                                                                                                                                                                                                                                               When did he die?       0.00      0.00      0.00       1.0\n",
            "                                                                                                                                                                                                                                                                                   When was Albert Einstein awarded the Nobel Prize in Physics?       0.00      0.00      0.00       1.0\n",
            "                                                                                                                                                                                                                                                                                                                 When was Albert Einstein born?       0.00      0.00      0.00       1.0\n",
            "                                                                                                                                                                                                                                                                                                            Where did he receive his education?       0.00      0.00      0.00       1.0\n",
            "                                                                                                                                                                                                                                                                                                                             Where was he born?       0.00      0.00      0.00       1.0\n",
            "                                                                                                                                                                                                                                                                                                                          Who were his parents?       0.00      0.00      0.00       1.0\n",
            "\n",
            "                                                                                                                                                                                                                                                                                                                                       accuracy                           0.00      10.0\n",
            "                                                                                                                                                                                                                                                                                                                                      macro avg       0.00      0.00      0.00      10.0\n",
            "                                                                                                                                                                                                                                                                                                                                   weighted avg       0.00      0.00      0.00      10.0\n",
            "\n"
          ]
        },
        {
          "output_type": "stream",
          "name": "stderr",
          "text": [
            "/usr/local/lib/python3.7/dist-packages/sklearn/metrics/_classification.py:1318: UndefinedMetricWarning: Precision and F-score are ill-defined and being set to 0.0 in labels with no predicted samples. Use `zero_division` parameter to control this behavior.\n",
            "  _warn_prf(average, modifier, msg_start, len(result))\n",
            "/usr/local/lib/python3.7/dist-packages/sklearn/metrics/_classification.py:1318: UndefinedMetricWarning: Recall and F-score are ill-defined and being set to 0.0 in labels with no true samples. Use `zero_division` parameter to control this behavior.\n",
            "  _warn_prf(average, modifier, msg_start, len(result))\n",
            "/usr/local/lib/python3.7/dist-packages/sklearn/metrics/_classification.py:1318: UndefinedMetricWarning: Precision and F-score are ill-defined and being set to 0.0 in labels with no predicted samples. Use `zero_division` parameter to control this behavior.\n",
            "  _warn_prf(average, modifier, msg_start, len(result))\n",
            "/usr/local/lib/python3.7/dist-packages/sklearn/metrics/_classification.py:1318: UndefinedMetricWarning: Recall and F-score are ill-defined and being set to 0.0 in labels with no true samples. Use `zero_division` parameter to control this behavior.\n",
            "  _warn_prf(average, modifier, msg_start, len(result))\n",
            "/usr/local/lib/python3.7/dist-packages/sklearn/metrics/_classification.py:1318: UndefinedMetricWarning: Precision and F-score are ill-defined and being set to 0.0 in labels with no predicted samples. Use `zero_division` parameter to control this behavior.\n",
            "  _warn_prf(average, modifier, msg_start, len(result))\n",
            "/usr/local/lib/python3.7/dist-packages/sklearn/metrics/_classification.py:1318: UndefinedMetricWarning: Recall and F-score are ill-defined and being set to 0.0 in labels with no true samples. Use `zero_division` parameter to control this behavior.\n",
            "  _warn_prf(average, modifier, msg_start, len(result))\n"
          ]
        }
      ]
    }
  ]
}